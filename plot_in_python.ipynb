{
 "cells": [
  {
   "cell_type": "code",
   "execution_count": 1,
   "metadata": {},
   "outputs": [],
   "source": [
    "import streamlit as st\n",
    "\n",
    "import matplotlib.pyplot as plt \n",
    "import pandas as pd\n",
    "import streamlit as st\n",
    "import numpy as np\n",
    "import matplotlib\n",
    "#matplotlib.use('Agg')\n",
    "import seaborn as sns "
   ]
  },
  {
   "cell_type": "code",
   "execution_count": 33,
   "metadata": {
    "scrolled": false
   },
   "outputs": [
    {
     "data": {
      "text/plain": [
       "Index(['age;\"job\";\"marital\";\"education\";\"default\";\"balance\";\"housing\";\"loan\";\"contact\";\"day\";\"month\";\"duration\";\"campaign\";\"pdays\";\"previous\";\"poutcome\";\"y\"'], dtype='object')"
      ]
     },
     "execution_count": 33,
     "metadata": {},
     "output_type": "execute_result"
    }
   ],
   "source": [
    "#Remove Warnings\n",
    "st.set_option('deprecation.showPyplotGlobalUse', False)\n",
    "st.title(\"mat_Dataset\")\n",
    "\n",
    "#import dataset\n",
    "pd.set_option('display.max_columns', None)\n",
    "\n",
    "\n",
    "mat = pd.read_csv('bank-full.csv')\n",
    "#mat = mat[:30,10:]\n",
    "#ind_covid\n",
    "#new_names = {'A':'NaU', 'B':'MgU', 'C':'Alu', 'D':'SiU'}\n",
    "#mat.rename(index=str, columns=new_names)\n",
    "#mat.axes\n",
    "mat.columns\n",
    "mat = mat.rename(columns={'age':'age','y':'y'})\n",
    "mat.columns\n",
    "#mat\n",
    "#sns.distplot(mat.balance)"
   ]
  },
  {
   "cell_type": "code",
   "execution_count": 35,
   "metadata": {},
   "outputs": [],
   "source": [
    "sns.set_style(style=\"whitegrid\")\n",
    "barr = sns.barplot(x='marital', y='balance', data=mat)\n"
   ]
  },
  {
   "cell_type": "code",
   "execution_count": null,
   "metadata": {},
   "outputs": [],
   "source": [
    "#First thirty rows\n",
    "mat = covid.head(-1)\n",
    "#Display the table\n",
    "st.table(mat)\n",
    "st.header(\"Visualisation Using Seaborn\")"
   ]
  },
  {
   "cell_type": "code",
   "execution_count": null,
   "metadata": {},
   "outputs": [],
   "source": []
  },
  {
   "cell_type": "code",
   "execution_count": null,
   "metadata": {},
   "outputs": [],
   "source": [
    "#bar plot\n",
    "st.subheader(\"Bar Plot\")\n",
    "mat.plot(kind='bar')\n",
    "st.pyplot()\n",
    "#Displot\n",
    "st.subheader(\"Displot\")\n",
    "sns.displot(mat['human_development_index'])\n",
    "st.pyplot()\n",
    "#joinplot\n",
    "st.subheader(\"JointPlot\")\n",
    "sns.jointplot(x='total_bill',y='tip',data=mat,kind='scatter')\n",
    "st.pyplot()\n",
    "#pairplot\n",
    "st.subheader(\"Pairplot\")\n",
    "sns.pairplot(mat,hue='sex',palette='rainbow')\n",
    "st.pyplot()\n",
    "#Rugplot\n",
    "st.subheader(\"Rugplot\")\n",
    "sns.rugplot(mat['tip'])\n",
    "st.pyplot()\n",
    "#Correation\n",
    "st.subheader(\"Heatmap\")\n",
    "sns.heatmap(mat.corr(),cmap='coolwarm',annot=True)\n",
    "st.pyplot()"
   ]
  }
 ],
 "metadata": {
  "kernelspec": {
   "display_name": "Python 3",
   "language": "python",
   "name": "python3"
  },
  "language_info": {
   "codemirror_mode": {
    "name": "ipython",
    "version": 3
   },
   "file_extension": ".py",
   "mimetype": "text/x-python",
   "name": "python",
   "nbconvert_exporter": "python",
   "pygments_lexer": "ipython3",
   "version": "3.7.6"
  }
 },
 "nbformat": 4,
 "nbformat_minor": 4
}
